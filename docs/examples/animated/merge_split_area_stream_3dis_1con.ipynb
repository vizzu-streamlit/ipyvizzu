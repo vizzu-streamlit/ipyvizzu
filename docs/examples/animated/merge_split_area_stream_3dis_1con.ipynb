{
 "cells": [
  {
   "cell_type": "markdown",
   "id": "488d8e85",
   "metadata": {},
   "source": [
    "**Note:** The data used in this example is available [here](https://github.com/vizzuhq/ipyvizzu/tree/gh-pages/docs/data). You can read more about the available types of data in the [Adding data](../../tutorial/01_02_adding_data.ipynb) chapter."
   ]
  },
  {
   "cell_type": "code",
   "execution_count": null,
   "id": "ead3527a",
   "metadata": {},
   "outputs": [],
   "source": [
    "import pandas as pd\n",
    "from ipyvizzu import Chart, Data, Config, Style\n",
    "\n",
    "data_frame = pd.read_csv(\n",
    "    \"../../data/chart_types_eu.csv\", dtype={\"Year\": str, \"Timeseries\": str}\n",
    ")\n",
    "data = Data()\n",
    "data.add_data_frame(data_frame)\n",
    "\n",
    "chart = Chart()\n",
    "chart.animate(data)\n",
    "\n",
    "chart.animate(\n",
    "    data.filter(\n",
    "        \"\"\"\n",
    "  ['AT', 'BE', 'DE', 'DK', 'ES', 'FI', 'FR', 'IT', 'NL', 'SE']\n",
    "  .includes(record.Country_code)\n",
    "  \"\"\"\n",
    "    ),\n",
    "    Config(\n",
    "        {\n",
    "            \"channels\": {\n",
    "                \"x\": {\"set\": [\"Year\", \"Joy factors\"]},\n",
    "                \"y\": {\"set\": [\"Value 3 (+)\", \"Country\"]},\n",
    "                \"color\": {\"set\": [\"Country\"]},\n",
    "            },\n",
    "            \"title\": \"Stacked Streamgraph\",\n",
    "            \"geometry\": \"area\",\n",
    "            \"align\": \"center\",\n",
    "        }\n",
    "    ),\n",
    ")"
   ]
  },
  {
   "cell_type": "code",
   "execution_count": null,
   "id": "f049c82a",
   "metadata": {},
   "outputs": [],
   "source": [
    "chart.animate(\n",
    "    Config(\n",
    "        {\n",
    "            \"channels\": {\"y\": {\"range\": {\"max\": \"100%\"}}},\n",
    "            \"title\": \"Trellis Area Chart\",\n",
    "            \"split\": True,\n",
    "            \"align\": \"min\",\n",
    "        }\n",
    "    )\n",
    ")"
   ]
  },
  {
   "cell_type": "markdown",
   "id": "2045e38b",
   "metadata": {},
   "source": [
    "Back to the [Examples](../examples.ipynb) ----- Back to the [Table of contents](../../doc.ipynb#tutorial)"
   ]
  }
 ],
 "metadata": {
  "kernelspec": {
   "display_name": ".venv",
   "language": "python",
   "name": ".venv"
  },
  "title": "ipyvizzu - Example"
 },
 "nbformat": 4,
 "nbformat_minor": 5
}
