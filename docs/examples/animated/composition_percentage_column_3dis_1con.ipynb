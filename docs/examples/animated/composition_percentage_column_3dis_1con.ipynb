{
 "cells": [
  {
   "cell_type": "markdown",
   "id": "44a7a5de",
   "metadata": {},
   "source": [
    "**Note:** The data used in this example is available [here](https://github.com/vizzuhq/ipyvizzu/tree/gh-pages/docs/data). You can read more about the available types of data in the [Adding data](../../tutorial/01_02_adding_data.ipynb) chapter."
   ]
  },
  {
   "cell_type": "code",
   "execution_count": null,
   "id": "b37080e5",
   "metadata": {},
   "outputs": [],
   "source": [
    "import pandas as pd\n",
    "from ipyvizzu import Chart, Data, Config, Style\n",
    "\n",
    "data_frame = pd.read_csv(\n",
    "    \"../../data/chart_types_eu.csv\", dtype={\"Year\": str, \"Timeseries\": str}\n",
    ")\n",
    "data = Data()\n",
    "data.add_data_frame(data_frame)\n",
    "\n",
    "chart = Chart()\n",
    "chart.animate(data)\n",
    "\n",
    "chart.animate(\n",
    "    data.filter(\n",
    "        \"\"\"\n",
    "  ['AT', 'BE', 'CY', 'DE', 'DK', 'EE', 'EL', 'ES', 'FI', 'FR', 'IT', 'NL', 'SE']\n",
    "  .includes(record.Country_code)\n",
    "  \"\"\"\n",
    "    ),\n",
    "    Config(\n",
    "        {\n",
    "            \"channels\": {\n",
    "                \"x\": {\"set\": [\"Year\"]},\n",
    "                \"y\": {\"set\": [\"Value 2 (+)\", \"Country\"]},\n",
    "                \"color\": {\"set\": [\"Country\"]},\n",
    "            },\n",
    "            \"title\": \"Stacked Column Chart\",\n",
    "            \"geometry\": \"rectangle\",\n",
    "        }\n",
    "    ),\n",
    ")"
   ]
  },
  {
   "cell_type": "code",
   "execution_count": null,
   "id": "f24c29e7",
   "metadata": {},
   "outputs": [],
   "source": [
    "chart.animate(Config({\"title\": \"100% Stacked Column Chart\", \"align\": \"stretch\"}))"
   ]
  },
  {
   "cell_type": "code",
   "execution_count": null,
   "id": "c24c4fb2",
   "metadata": {},
   "outputs": [],
   "source": [
    "chart.animate(\n",
    "    Config(\n",
    "        {\n",
    "            \"channels\": {\"y\": {\"range\": {\"max\": \"100%\"}}},\n",
    "            \"title\": \"Trellis Column Chart\",\n",
    "            \"align\": \"min\",\n",
    "            \"split\": True,\n",
    "        }\n",
    "    )\n",
    ")"
   ]
  },
  {
   "cell_type": "markdown",
   "id": "bcb8d104",
   "metadata": {},
   "source": [
    "Back to the [Examples](../examples.ipynb) ----- Back to the [Table of contents](../../doc.ipynb#tutorial)"
   ]
  }
 ],
 "metadata": {
  "kernelspec": {
   "display_name": ".venv",
   "language": "python",
   "name": ".venv"
  },
  "title": "ipyvizzu - Example"
 },
 "nbformat": 4,
 "nbformat_minor": 5
}
