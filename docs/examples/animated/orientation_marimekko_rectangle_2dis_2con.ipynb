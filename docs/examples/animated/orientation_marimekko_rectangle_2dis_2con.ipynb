{
 "cells": [
  {
   "cell_type": "markdown",
   "id": "46b26207",
   "metadata": {},
   "source": [
    "**Note:** The data used in this example is available [here](https://github.com/vizzuhq/ipyvizzu/tree/gh-pages/docs/data). You can read more about the available types of data in the [Adding data](../../tutorial/01_02_adding_data.ipynb) chapter."
   ]
  },
  {
   "cell_type": "code",
   "execution_count": null,
   "id": "63d6253f",
   "metadata": {},
   "outputs": [],
   "source": [
    "import pandas as pd\n",
    "from ipyvizzu import Chart, Data, Config, Style\n",
    "\n",
    "data_frame = pd.read_csv(\n",
    "    \"../../data/chart_types_eu.csv\", dtype={\"Year\": str, \"Timeseries\": str}\n",
    ")\n",
    "data = Data()\n",
    "data.add_data_frame(data_frame)\n",
    "\n",
    "chart = Chart()\n",
    "chart.animate(data)\n",
    "\n",
    "chart.animate(\n",
    "    data.filter(\n",
    "        \"\"\"\n",
    "  record.Country == 'Bulgaria' ||\n",
    "  record.Country == 'Germany' ||\n",
    "  record.Country == 'Malta' ||\n",
    "  record.Country == 'Lithuania'\n",
    "  \"\"\"\n",
    "    ),\n",
    "    Config(\n",
    "        {\n",
    "            \"channels\": {\n",
    "                \"x\": {\"set\": [\"Country\", \"Value 2 (+)\"]},\n",
    "                \"y\": {\"set\": [\"Joy factors\", \"Value 3 (+)\"]},\n",
    "                \"color\": {\"set\": [\"Joy factors\"]},\n",
    "                \"label\": {\"set\": [\"Country\"]},\n",
    "                \"lightness\": {\"set\": [\"Country\"]},\n",
    "            },\n",
    "            \"title\": \"Marimekko Chart\",\n",
    "            \"align\": \"stretch\",\n",
    "            \"orientation\": \"horizontal\",\n",
    "        }\n",
    "    ),\n",
    ")"
   ]
  },
  {
   "cell_type": "code",
   "execution_count": null,
   "id": "d2771527",
   "metadata": {},
   "outputs": [],
   "source": [
    "chart.animate(Config({\"orientation\": \"vertical\"}))"
   ]
  },
  {
   "cell_type": "markdown",
   "id": "917807ca",
   "metadata": {},
   "source": [
    "Back to the [Examples](../examples.ipynb) ----- Back to the [Table of contents](../../doc.ipynb#tutorial)"
   ]
  }
 ],
 "metadata": {
  "kernelspec": {
   "display_name": ".venv",
   "language": "python",
   "name": ".venv"
  },
  "title": "ipyvizzu - Example"
 },
 "nbformat": 4,
 "nbformat_minor": 5
}
