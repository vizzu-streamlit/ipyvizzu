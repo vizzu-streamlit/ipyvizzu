{
 "cells": [
  {
   "cell_type": "markdown",
   "id": "a6a7eccf",
   "metadata": {},
   "source": [
    "**Note:** The data used in this example is available [here](https://github.com/vizzuhq/ipyvizzu/tree/gh-pages/docs/data). You can read more about the available types of data in the [Adding data](../../tutorial/01_02_adding_data.ipynb) chapter."
   ]
  },
  {
   "cell_type": "code",
   "execution_count": null,
   "id": "e5fc3b21",
   "metadata": {},
   "outputs": [],
   "source": [
    "import pandas as pd\n",
    "from ipyvizzu import Chart, Data, Config, Style\n",
    "\n",
    "data_frame = pd.read_csv(\n",
    "    \"../../data/chart_types_eu.csv\", dtype={\"Year\": str, \"Timeseries\": str}\n",
    ")\n",
    "data = Data()\n",
    "data.add_data_frame(data_frame)\n",
    "\n",
    "chart = Chart()\n",
    "chart.animate(data)\n",
    "\n",
    "chart.animate(\n",
    "    Config(\n",
    "        {\n",
    "            \"channels\": {\n",
    "                \"color\": {\"set\": [\"Joy factors\"]},\n",
    "                \"size\": {\"set\": [\"Value 2 (+)\"]},\n",
    "                \"label\": {\"set\": [\"Joy factors\"]},\n",
    "            },\n",
    "            \"title\": \"Treemap\",\n",
    "        }\n",
    "    ),\n",
    "    Style({\"plot\": {\"marker\": {\"label\": {\"fontSize\": 14}}}}),\n",
    ")"
   ]
  },
  {
   "cell_type": "code",
   "execution_count": null,
   "id": "d5e2d2ab",
   "metadata": {},
   "outputs": [],
   "source": [
    "chart.animate(\n",
    "    Config(\n",
    "        {\n",
    "            \"channels\": {\n",
    "                \"x\": {\"set\": [\"Value 2 (+)\"]},\n",
    "                \"y\": {\"set\": [\"Joy factors\"], \"range\": {\"min\": \"-30%\"}},\n",
    "                \"size\": {\"set\": None},\n",
    "                \"label\": {\"set\": [\"Value 2 (+)\"]},\n",
    "            },\n",
    "            \"title\": \"Radial Chart\",\n",
    "            \"coordSystem\": \"polar\",\n",
    "        }\n",
    "    ),\n",
    "    Style(\n",
    "        {\n",
    "            \"plot\": {\n",
    "                \"marker\": {\"label\": {\"fontSize\": None}},\n",
    "                \"xAxis\": {\n",
    "                    \"title\": {\"color\": \"#ffffff00\"},\n",
    "                    \"label\": {\"color\": \"#ffffff00\"},\n",
    "                    \"interlacing\": {\"color\": \"#ffffff00\"},\n",
    "                },\n",
    "                \"yAxis\": {\"color\": \"#ffffff00\", \"label\": {\"paddingRight\": 20}},\n",
    "            }\n",
    "        }\n",
    "    ),\n",
    ")"
   ]
  },
  {
   "cell_type": "markdown",
   "id": "7eec90e0",
   "metadata": {},
   "source": [
    "Back to the [Examples](../examples.ipynb) ----- Back to the [Table of contents](../../doc.ipynb#tutorial)"
   ]
  }
 ],
 "metadata": {
  "kernelspec": {
   "display_name": ".venv",
   "language": "python",
   "name": ".venv"
  },
  "title": "ipyvizzu - Example"
 },
 "nbformat": 4,
 "nbformat_minor": 5
}
