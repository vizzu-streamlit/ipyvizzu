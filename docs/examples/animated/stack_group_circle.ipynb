{
 "cells": [
  {
   "cell_type": "markdown",
   "id": "e5010bf4",
   "metadata": {},
   "source": [
    "**Note:** The data used in this example is available [here](https://github.com/vizzuhq/ipyvizzu/tree/gh-pages/docs/data). You can read more about the available types of data in the [Adding data](../../tutorial/01_02_adding_data.ipynb) chapter."
   ]
  },
  {
   "cell_type": "code",
   "execution_count": null,
   "id": "a0c46acc",
   "metadata": {},
   "outputs": [],
   "source": [
    "import pandas as pd\n",
    "from ipyvizzu import Chart, Data, Config, Style\n",
    "\n",
    "data_frame = pd.read_csv(\n",
    "    \"../../data/chart_types_eu.csv\", dtype={\"Year\": str, \"Timeseries\": str}\n",
    ")\n",
    "data = Data()\n",
    "data.add_data_frame(data_frame)\n",
    "\n",
    "chart = Chart()\n",
    "chart.animate(data)\n",
    "\n",
    "chart.animate(\n",
    "    Config(\n",
    "        {\n",
    "            \"channels\": {\n",
    "                \"color\": {\"set\": [\"Joy factors\"]},\n",
    "                \"size\": {\"set\": [\"Value 2 (+)\"]},\n",
    "                \"label\": {\"set\": [\"Country_code\"]},\n",
    "            },\n",
    "            \"title\": \"Bubble Chart\",\n",
    "            \"geometry\": \"circle\",\n",
    "        }\n",
    "    )\n",
    ")"
   ]
  },
  {
   "cell_type": "code",
   "execution_count": null,
   "id": "c97a03ea",
   "metadata": {},
   "outputs": [],
   "source": [
    "chart.animate(\n",
    "    Config(\n",
    "        {\n",
    "            \"channels\": {\"size\": {\"set\": [\"Value 2 (+)\", \"Country_code\"]}},\n",
    "            \"title\": \"Stacked Bubble Chart\",\n",
    "        }\n",
    "    ),\n",
    "    Style({\"plot\": {\"marker\": {\"label\": {\"fontSize\": 10}}}}),\n",
    ")"
   ]
  },
  {
   "cell_type": "markdown",
   "id": "315573e5",
   "metadata": {},
   "source": [
    "Back to the [Examples](../examples.ipynb) ----- Back to the [Table of contents](../../doc.ipynb#tutorial)"
   ]
  }
 ],
 "metadata": {
  "kernelspec": {
   "display_name": ".venv",
   "language": "python",
   "name": ".venv"
  },
  "title": "ipyvizzu - Example"
 },
 "nbformat": 4,
 "nbformat_minor": 5
}
