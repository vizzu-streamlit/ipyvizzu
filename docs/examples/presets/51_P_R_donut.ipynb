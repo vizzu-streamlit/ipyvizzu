{
 "cells": [
  {
   "cell_type": "markdown",
   "id": "ae9ebb4a",
   "metadata": {},
   "source": [
    "**Note:** The data used in this example is available [here](https://github.com/vizzuhq/ipyvizzu/tree/gh-pages/docs/data). You can read more about the available types of data in the [Adding data](../../tutorial/01_02_adding_data.ipynb) chapter."
   ]
  },
  {
   "cell_type": "code",
   "execution_count": null,
   "id": "f9f89180",
   "metadata": {},
   "outputs": [],
   "source": [
    "import pandas as pd\n",
    "from ipyvizzu import Chart, Data, Config, Style\n",
    "\n",
    "data_frame = pd.read_csv(\n",
    "    \"../../data/chart_types_eu.csv\", dtype={\"Year\": str, \"Timeseries\": str}\n",
    ")\n",
    "data = Data()\n",
    "data.add_data_frame(data_frame)\n",
    "\n",
    "chart = Chart()\n",
    "chart.animate(data)\n",
    "\n",
    "chart.animate(\n",
    "    Config.donut(\n",
    "        {\"angle\": \"Value 2 (+)\", \"stackedBy\": \"Joy factors\", \"title\": \"Donut Chart\"}\n",
    "    ),\n",
    "    Style(\n",
    "        {\n",
    "            \"plot\": {\n",
    "                \"paddingLeft\": \"0em\",\n",
    "                \"paddingRight\": \"12.42em\",\n",
    "                \"xAxis\": {\n",
    "                    \"title\": {\"color\": \"#ffffff00\"},\n",
    "                    \"label\": {\"color\": \"#ffffff00\"},\n",
    "                    \"ticks\": {\"color\": \"#ffffff00\"},\n",
    "                    \"interlacing\": {\"color\": \"#ffffff00\"},\n",
    "                },\n",
    "                \"yAxis\": {\n",
    "                    \"color\": \"#ffffff00\",\n",
    "                    \"title\": {\"color\": \"#ffffff00\"},\n",
    "                    \"label\": {\"color\": \"#ffffff00\"},\n",
    "                },\n",
    "            }\n",
    "        }\n",
    "    ),\n",
    ")"
   ]
  },
  {
   "cell_type": "markdown",
   "id": "a903a680",
   "metadata": {},
   "source": [
    "Back to the [Examples](../examples.ipynb) ----- Back to the [Table of contents](../../doc.ipynb#tutorial)"
   ]
  }
 ],
 "metadata": {
  "kernelspec": {
   "display_name": ".venv",
   "language": "python",
   "name": ".venv"
  },
  "title": "ipyvizzu - Example"
 },
 "nbformat": 4,
 "nbformat_minor": 5
}
