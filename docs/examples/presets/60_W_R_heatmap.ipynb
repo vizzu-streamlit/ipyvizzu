{
 "cells": [
  {
   "cell_type": "markdown",
   "id": "739ec37a",
   "metadata": {},
   "source": [
    "**Note:** The data used in this example is available [here](https://github.com/vizzuhq/ipyvizzu/tree/gh-pages/docs/data). You can read more about the available types of data in the [Adding data](../../tutorial/01_02_adding_data.ipynb) chapter."
   ]
  },
  {
   "cell_type": "code",
   "execution_count": null,
   "id": "0683a454",
   "metadata": {},
   "outputs": [],
   "source": [
    "import pandas as pd\n",
    "from ipyvizzu import Chart, Data, Config, Style\n",
    "\n",
    "data_frame = pd.read_csv(\n",
    "    \"../../data/chart_types_eu.csv\", dtype={\"Year\": str, \"Timeseries\": str}\n",
    ")\n",
    "data = Data()\n",
    "data.add_data_frame(data_frame)\n",
    "\n",
    "chart = Chart()\n",
    "chart.animate(data)\n",
    "\n",
    "chart.animate(\n",
    "    data.filter(\n",
    "        \"\"\"\n",
    "  record.Country == 'Austria' ||\n",
    "  record.Country == 'Belgium' ||\n",
    "  record.Country == 'Bulgaria' ||\n",
    "  record.Country == 'Cyprus' ||\n",
    "  record.Country == 'Denmark' ||\n",
    "  record.Country == 'Estonia' ||\n",
    "  record.Country == 'Greece' ||\n",
    "  record.Country == 'Spain' ||\n",
    "  record.Country == 'Hungary'\n",
    "  \"\"\"\n",
    "    ),\n",
    "    Config.heatmap(\n",
    "        {\n",
    "            \"x\": \"Year\",\n",
    "            \"y\": \"Country_code\",\n",
    "            \"lightness\": \"Value 3 (+)\",\n",
    "            \"title\": \"Heatmap\",\n",
    "        }\n",
    "    ),\n",
    "    Style(\n",
    "        {\n",
    "            \"plot\": {\n",
    "                \"paddingLeft\": \"1.2em\",\n",
    "                \"marker\": {\"rectangleSpacing\": 0},\n",
    "                \"xAxis\": {\"label\": {\"paddingTop\": \"0.8em\"}},\n",
    "                \"yAxis\": {\"label\": {\"paddingRight\": \"0.8em\"}},\n",
    "            }\n",
    "        }\n",
    "    ),\n",
    ")"
   ]
  },
  {
   "cell_type": "markdown",
   "id": "3381d098",
   "metadata": {},
   "source": [
    "Back to the [Examples](../examples.ipynb) ----- Back to the [Table of contents](../../doc.ipynb#tutorial)"
   ]
  }
 ],
 "metadata": {
  "kernelspec": {
   "display_name": ".venv",
   "language": "python",
   "name": ".venv"
  },
  "title": "ipyvizzu - Example"
 },
 "nbformat": 4,
 "nbformat_minor": 5
}
