{
 "cells": [
  {
   "cell_type": "markdown",
   "id": "f790c262",
   "metadata": {},
   "source": [
    "**Note:** The data used in this example is available [here](https://github.com/vizzuhq/ipyvizzu/tree/gh-pages/docs/data). You can read more about the available types of data in the [Adding data](../../tutorial/01_02_adding_data.ipynb) chapter."
   ]
  },
  {
   "cell_type": "code",
   "execution_count": null,
   "id": "9528b3ab",
   "metadata": {},
   "outputs": [],
   "source": [
    "import pandas as pd\n",
    "from ipyvizzu import Chart, Data, Config, Style\n",
    "\n",
    "data_frame = pd.read_csv(\n",
    "    \"../../data/chart_types_eu.csv\", dtype={\"Year\": str, \"Timeseries\": str}\n",
    ")\n",
    "data = Data()\n",
    "data.add_data_frame(data_frame)\n",
    "\n",
    "chart = Chart()\n",
    "chart.animate(data)\n",
    "\n",
    "chart.animate(\n",
    "    Config.bubbleplot(\n",
    "        {\n",
    "            \"x\": \"Value 4 (+/-)\",\n",
    "            \"y\": \"Value 5 (+/-)\",\n",
    "            \"color\": \"Joy factors\",\n",
    "            \"dividedBy\": \"Country\",\n",
    "            \"size\": \"Value 3 (+)\",\n",
    "            \"title\": \"Bubble Plot\",\n",
    "        }\n",
    "    ),\n",
    "    Style(\n",
    "        {\n",
    "            \"plot\": {\n",
    "                \"paddingLeft\": \"1.2em\",\n",
    "                \"yAxis\": {\"label\": {\"paddingRight\": \"0.8em\"}},\n",
    "                \"xAxis\": {\n",
    "                    \"title\": {\"paddingTop\": \"2.4em\"},\n",
    "                    \"label\": {\"paddingTop\": \"0.8em\"},\n",
    "                },\n",
    "            }\n",
    "        }\n",
    "    ),\n",
    ")"
   ]
  },
  {
   "cell_type": "markdown",
   "id": "e2280de6",
   "metadata": {},
   "source": [
    "Back to the [Examples](../examples.ipynb) ----- Back to the [Table of contents](../../doc.ipynb#tutorial)"
   ]
  }
 ],
 "metadata": {
  "kernelspec": {
   "display_name": ".venv",
   "language": "python",
   "name": ".venv"
  },
  "title": "ipyvizzu - Example"
 },
 "nbformat": 4,
 "nbformat_minor": 5
}
