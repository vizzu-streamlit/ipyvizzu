{
 "cells": [
  {
   "cell_type": "markdown",
   "id": "2e969765",
   "metadata": {},
   "source": [
    "**Note:** The data used in this example is available [here](https://github.com/vizzuhq/ipyvizzu/tree/gh-pages/docs/data). You can read more about the available types of data in the [Adding data](../../tutorial/01_02_adding_data.ipynb) chapter."
   ]
  },
  {
   "cell_type": "code",
   "execution_count": null,
   "id": "1892ce7c",
   "metadata": {},
   "outputs": [],
   "source": [
    "import pandas as pd\n",
    "from ipyvizzu import Chart, Data, Config, Style\n",
    "\n",
    "data_frame = pd.read_csv(\n",
    "    \"../../data/music_industry_history_1.csv\", dtype={\"Year\": str, \"Timeseries\": str}\n",
    ")\n",
    "data = Data()\n",
    "data.add_data_frame(data_frame)\n",
    "\n",
    "chart = Chart()\n",
    "chart.animate(data)\n",
    "\n",
    "chart.animate(\n",
    "    data.filter(\n",
    "        \"\"\"\n",
    "  record.Format == 'DVD' ||\n",
    "  record.Format == 'Other' ||\n",
    "  record.Format == 'Tapes' ||\n",
    "  record.Format == 'Download' ||\n",
    "  record.Format == 'Streaming' ||\n",
    "  record.Format == 'Cassette' ||\n",
    "  record.Format == 'Vinyl' ||\n",
    "  record.Format == 'CD'\n",
    "  \"\"\"\n",
    "    ),\n",
    "    Config.verticalStream(\n",
    "        {\n",
    "            \"x\": \"Revenue [m$]\",\n",
    "            \"y\": \"Year\",\n",
    "            \"stackedBy\": \"Format\",\n",
    "            \"title\": \"Vertical Stream Graph\",\n",
    "        }\n",
    "    ),\n",
    "    Style(\n",
    "        {\n",
    "            \"plot\": {\n",
    "                \"paddingLeft\": \"1.2em\",\n",
    "                \"yAxis\": {\"label\": {\"paddingRight\": \"0.8em\"}},\n",
    "                \"xAxis\": {\n",
    "                    \"title\": {\"paddingTop\": \"2.4em\"},\n",
    "                    \"label\": {\"paddingTop\": \"0.8em\"},\n",
    "                    \"interlacing\": {\"color\": \"#ffffff00\"},\n",
    "                },\n",
    "            }\n",
    "        }\n",
    "    ),\n",
    ")"
   ]
  },
  {
   "cell_type": "markdown",
   "id": "4aa91eae",
   "metadata": {},
   "source": [
    "Back to the [Examples](../examples.ipynb) ----- Back to the [Table of contents](../../doc.ipynb#tutorial)"
   ]
  }
 ],
 "metadata": {
  "kernelspec": {
   "display_name": ".venv",
   "language": "python",
   "name": ".venv"
  },
  "title": "ipyvizzu - Example"
 },
 "nbformat": 4,
 "nbformat_minor": 5
}
