{
 "cells": [
  {
   "cell_type": "markdown",
   "id": "ecf7fb42",
   "metadata": {},
   "source": [
    "**Note:** The data used in this example is available [here](https://github.com/vizzuhq/ipyvizzu/tree/gh-pages/docs/data). You can read more about the available types of data in the [Adding data](../../tutorial/01_02_adding_data.ipynb) chapter."
   ]
  },
  {
   "cell_type": "code",
   "execution_count": null,
   "id": "0deed53c",
   "metadata": {},
   "outputs": [],
   "source": [
    "import pandas as pd\n",
    "from ipyvizzu import Chart, Data, Config, Style\n",
    "\n",
    "data_frame = pd.read_csv(\n",
    "    \"../../data/chart_types_eu.csv\", dtype={\"Year\": str, \"Timeseries\": str}\n",
    ")\n",
    "data = Data()\n",
    "data.add_data_frame(data_frame)\n",
    "\n",
    "chart = Chart()\n",
    "chart.animate(data)\n",
    "\n",
    "chart.animate(\n",
    "    Config.stackedBubble(\n",
    "        {\n",
    "            \"size\": \"Value 2 (+)\",\n",
    "            \"color\": \"Joy factors\",\n",
    "            \"stackedBy\": \"Country_code\",\n",
    "            \"title\": \"Stacked Bubble Chart\",\n",
    "        }\n",
    "    ),\n",
    "    Style(\n",
    "        {\n",
    "            \"plot\": {\"paddingLeft\": \"0em\", \"paddingRight\": \"12.42em\"},\n",
    "            \"legend\": {\"maxWidth\": \"20%\"},\n",
    "        }\n",
    "    ),\n",
    ")"
   ]
  },
  {
   "cell_type": "markdown",
   "id": "7bae3035",
   "metadata": {},
   "source": [
    "Back to the [Examples](../examples.ipynb) ----- Back to the [Table of contents](../../doc.ipynb#tutorial)"
   ]
  }
 ],
 "metadata": {
  "kernelspec": {
   "display_name": ".venv",
   "language": "python",
   "name": ".venv"
  },
  "title": "ipyvizzu - Example"
 },
 "nbformat": 4,
 "nbformat_minor": 5
}
