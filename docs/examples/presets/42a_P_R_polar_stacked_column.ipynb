{
 "cells": [
  {
   "cell_type": "markdown",
   "id": "1c19b22d",
   "metadata": {},
   "source": [
    "**Note:** The data used in this example is available [here](https://github.com/vizzuhq/ipyvizzu/tree/gh-pages/docs/data). You can read more about the available types of data in the [Adding data](../../tutorial/01_02_adding_data.ipynb) chapter."
   ]
  },
  {
   "cell_type": "code",
   "execution_count": null,
   "id": "bba3429c",
   "metadata": {},
   "outputs": [],
   "source": [
    "import pandas as pd\n",
    "from ipyvizzu import Chart, Data, Config, Style\n",
    "\n",
    "data_frame = pd.read_csv(\n",
    "    \"../../data/chart_types_eu.csv\", dtype={\"Year\": str, \"Timeseries\": str}\n",
    ")\n",
    "data = Data()\n",
    "data.add_data_frame(data_frame)\n",
    "\n",
    "chart = Chart()\n",
    "chart.animate(data)\n",
    "\n",
    "chart.animate(\n",
    "    data.filter(\n",
    "        \"\"\"\n",
    "  record.Country == 'Austria' ||\n",
    "  record.Country == 'Belgium' ||\n",
    "  record.Country == 'Bulgaria' ||\n",
    "  record.Country == 'Cyprus' ||\n",
    "  record.Country == 'Czechia' ||\n",
    "  record.Country == 'Denmark' ||\n",
    "  record.Country == 'Estonia'\n",
    "  \"\"\"\n",
    "    ),\n",
    "    Config.polarStackedColumn(\n",
    "        {\n",
    "            \"angle\": \"Country\",\n",
    "            \"radius\": \"Value 2 (+)\",\n",
    "            \"stackedBy\": \"Joy factors\",\n",
    "            \"title\": \"Polar Stacked Column Chart\",\n",
    "        }\n",
    "    ),\n",
    "    Style(\n",
    "        {\n",
    "            \"plot\": {\n",
    "                \"paddingLeft\": \"0em\",\n",
    "                \"paddingRight\": \"12.42em\",\n",
    "                \"yAxis\": {\"label\": {\"paddingRight\": \"0em\"}},\n",
    "                \"xAxis\": {\"label\": {\"paddingTop\": \"0.8em\"}},\n",
    "            }\n",
    "        }\n",
    "    ),\n",
    ")"
   ]
  },
  {
   "cell_type": "markdown",
   "id": "03ee53b1",
   "metadata": {},
   "source": [
    "Back to the [Examples](../examples.ipynb) ----- Back to the [Table of contents](../../doc.ipynb#tutorial)"
   ]
  }
 ],
 "metadata": {
  "kernelspec": {
   "display_name": ".venv",
   "language": "python",
   "name": ".venv"
  },
  "title": "ipyvizzu - Example"
 },
 "nbformat": 4,
 "nbformat_minor": 5
}
